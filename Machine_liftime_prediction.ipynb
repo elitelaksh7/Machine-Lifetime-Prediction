{
  "cells": [
    {
      "cell_type": "markdown",
      "metadata": {
        "id": "iKRRHYWU6OLm"
      },
      "source": [
        "![svg image](data:image/svg+xml,%3Csvg%20version%3D%221.1%22%20id%3D%22Layer_1%22%20xmlns%3D%22http%3A%2F%2Fwww.w3.org%2F2000%2Fsvg%22%20xmlns%3Axlink%3D%22http%3A%2F%2Fwww.w3.org%2F1999%2Fxlink%22%20x%3D%220px%22%20y%3D%220px%22%0A%09%20viewBox%3D%220%200%201796%20100%22%20style%3D%22enable-background%3Anew%200%200%201796%20100%3B%22%20xml%3Aspace%3D%22preserve%22%3E%0A%3Cstyle%20type%3D%22text%2Fcss%22%3E%0A%09.st0%7Bfill-rule%3Aevenodd%3Bclip-rule%3Aevenodd%3Bfill%3Aurl%28%23SVGID_1_%29%3B%7D%0A%09.st1%7Bclip-path%3Aurl%28%23SVGID_00000055697549078573754210000016361062423753190026_%29%3B%7D%0A%09.st2%7Bfill%3Aurl%28%23SVGID_00000035492356454411262960000012525147512689374345_%29%3B%7D%0A%09.st3%7Bclip-path%3Aurl%28%23SVGID_00000044865169841396490120000008248100562427721118_%29%3B%7D%0A%09.st4%7Bfill%3Aurl%28%23SVGID_00000075884984259626911740000005845437875848140460_%29%3B%7D%0A%09.st5%7Bfill%3Anone%3Bstroke%3A%23FFFFFF%3Bstroke-width%3A2%3Bstroke-miterlimit%3A10%3B%7D%0A%09.st6%7Bfill%3Anone%3Bstroke%3A%23FFFFFF%3Bstroke-width%3A1.5%3Bstroke-miterlimit%3A10%3B%7D%0A%09.st7%7Bopacity%3A0.2%3Bfill%3Aurl%28%23SVGID_00000041253707641284147980000004374100026742021512_%29%3Benable-background%3Anew%20%20%20%20%3B%7D%0A%09.st8%7Bfill%3A%23FFFFFF%3B%7D%0A%09.st9%7Bfont-family%3A%27IBMPlexSans-Medium%27%3B%7D%0A%09.st10%7Bfont-size%3A32px%3B%7D%0A%09.st11%7Bfont-family%3A%27IBMPlexSans%27%3B%7D%0A%09.st12%7Bfill%3A%233D3D3D%3B%7D%0A%09.st13%7Bfill%3A%23939598%3B%7D%0A%3C%2Fstyle%3E%0A%3Crect%20width%3D%221796%22%20height%3D%22100%22%2F%3E%0A%3ClinearGradient%20id%3D%22SVGID_1_%22%20gradientUnits%3D%22userSpaceOnUse%22%20x1%3D%2242.8625%22%20y1%3D%22-925.998%22%20x2%3D%2279.71%22%20y2%3D%22-925.998%22%20gradientTransform%3D%22matrix%281%200%200%20-1%200%20-876%29%22%3E%0A%09%3Cstop%20%20offset%3D%220%22%20style%3D%22stop-color%3A%23AB74FF%22%2F%3E%0A%09%3Cstop%20%20offset%3D%220.21%22%20style%3D%22stop-color%3A%23866AFF%22%2F%3E%0A%09%3Cstop%20%20offset%3D%220.75%22%20style%3D%22stop-color%3A%232A4FFF%22%2F%3E%0A%09%3Cstop%20%20offset%3D%221%22%20style%3D%22stop-color%3A%230645FF%22%2F%3E%0A%3C%2FlinearGradient%3E%0A%3Cpath%20class%3D%22st0%22%20d%3D%22M52.4%2C45.9c0-2.3%2C1.8-4.1%2C4.1-4.1s4.1%2C1.8%2C4.1%2C4.1S58.8%2C50%2C56.5%2C50l0%2C0c-2.2%2C0.1-4-1.7-4.1-3.9%0A%09C52.4%2C46%2C52.4%2C46%2C52.4%2C45.9z%20M77.5%2C52.5c-0.8-1.1-1.4-2.3-1.9-3.5c1.2-4.5%2C0.7-8.6-1.8-11.9c-2.9-3.8-8.2-6-14.5-6.1%0A%09c-4.5-0.1-8.8%2C1.7-12%2C4.8c-3%2C3-4.6%2C7.2-4.5%2C11.5c-0.1%2C2.9%2C0.9%2C5.8%2C2.7%2C8.1c0.8%2C0.8%2C1.3%2C1.9%2C1.4%2C3v4.5c-0.8%2C0.5-1.4%2C1.3-1.4%2C2.3%0A%09c0.2%2C1.5%2C1.5%2C2.6%2C3%2C2.4c1.2-0.2%2C2.2-1.1%2C2.4-2.4c0-1-0.5-1.9-1.4-2.3v-4.5c0-2-1-3.3-1.9-4.6c-1.5-1.9-2.2-4.2-2.1-6.5%0A%09c0-3.5%2C1.4-6.9%2C3.8-9.4c2.7-2.7%2C6.3-4.1%2C10-4.1c5.5%2C0%2C9.8%2C1.9%2C12.1%2C5c2%2C2.8%2C2.5%2C6.3%2C1.4%2C9.6c-0.4%2C1.2%2C0.6%2C2.7%2C2.3%2C5.6%0A%09c0.6%2C0.9%2C1.2%2C1.9%2C1.6%2C2.9c-0.9%2C0.7-2%2C1.2-3.1%2C1.5c-0.5%2C0.4-0.7%2C0.9-0.8%2C1.5V65c0%2C0.4-0.1%2C0.8-0.4%2C1.1c-0.3%2C0.2-0.7%2C0.3-1.1%2C0.3%0A%09c-1.6-0.3-3.4-0.7-5.2-1.1v-4.8c0.8-0.5%2C1.4-1.4%2C1.4-2.3c0-1.5-1.2-2.7-2.7-2.7s-2.7%2C1.2-2.7%2C2.7c0%2C1%2C0.5%2C1.9%2C1.4%2C2.3v4.1%0A%09c-0.4-0.1-0.7-0.1-1.1-0.3c-4.5-1.1-4.5-2.6-4.5-3.4v-8.3c3.2-0.7%2C5.4-3.5%2C5.5-6.7c-0.1-3.8-3.3-6.7-7.1-6.6c-3.6%2C0.1-6.4%2C3-6.6%2C6.6%0A%09c0%2C3.2%2C2.3%2C6%2C5.5%2C6.7v8.3c0%2C2%2C0.7%2C4.6%2C6.6%2C6.1c3%2C0.8%2C6%2C1.5%2C9.1%2C1.9c0.3%2C0%2C0.6%2C0.1%2C0.8%2C0.1c1%2C0%2C1.9-0.3%2C2.6-1%0A%09c0.9-0.8%2C1.4-1.9%2C1.4-3.1v-4.5c2-0.8%2C4.1-2%2C4.1-3.7C79.7%2C55.9%2C79%2C54.6%2C77.5%2C52.5z%22%2F%3E%0A%3Cg%3E%0A%09%3Cg%3E%0A%09%09%3Cg%3E%0A%09%09%09%3Cdefs%3E%0A%09%09%09%09%3Cpath%20id%3D%22SVGID_00000023986984125224352720000009086132040101336737_%22%20d%3D%22M52.4%2C45.9c0-2.3%2C1.8-4.1%2C4.1-4.1s4.1%2C1.8%2C4.1%2C4.1%0A%09%09%09%09%09S58.8%2C50%2C56.5%2C50l0%2C0c-2.2%2C0.1-4-1.7-4.1-3.9C52.4%2C46%2C52.4%2C46%2C52.4%2C45.9z%20M77.5%2C52.5c-0.8-1.1-1.4-2.3-1.9-3.5%0A%09%09%09%09%09c1.2-4.5%2C0.7-8.6-1.8-11.9c-2.9-3.8-8.2-6-14.5-6.1c-4.5-0.1-8.8%2C1.7-12%2C4.8c-3%2C3-4.6%2C7.2-4.5%2C11.5c-0.1%2C2.9%2C0.9%2C5.8%2C2.7%2C8.1%0A%09%09%09%09%09c0.8%2C0.8%2C1.3%2C1.9%2C1.4%2C3v4.5c-0.8%2C0.5-1.4%2C1.3-1.4%2C2.3c0.2%2C1.5%2C1.5%2C2.6%2C3%2C2.4c1.2-0.2%2C2.2-1.1%2C2.4-2.4c0-1-0.5-1.9-1.4-2.3v-4.5%0A%09%09%09%09%09c0-2-1-3.3-1.9-4.6c-1.5-1.9-2.2-4.2-2.1-6.5c0-3.5%2C1.4-6.9%2C3.8-9.4c2.7-2.7%2C6.3-4.1%2C10-4.1c5.5%2C0%2C9.8%2C1.9%2C12.1%2C5%0A%09%09%09%09%09c2%2C2.8%2C2.5%2C6.3%2C1.4%2C9.6c-0.4%2C1.2%2C0.6%2C2.7%2C2.3%2C5.6c0.6%2C0.9%2C1.2%2C1.9%2C1.6%2C2.9c-0.9%2C0.7-2%2C1.2-3.1%2C1.5c-0.5%2C0.4-0.7%2C0.9-0.8%2C1.5V65%0A%09%09%09%09%09c0%2C0.4-0.1%2C0.8-0.4%2C1.1c-0.3%2C0.2-0.7%2C0.3-1.1%2C0.3c-1.6-0.3-3.4-0.7-5.2-1.1v-4.8c0.8-0.5%2C1.4-1.4%2C1.4-2.3c0-1.5-1.2-2.7-2.7-2.7%0A%09%09%09%09%09s-2.7%2C1.2-2.7%2C2.7c0%2C1%2C0.5%2C1.9%2C1.4%2C2.3v4.1c-0.4-0.1-0.7-0.1-1.1-0.3c-4.5-1.1-4.5-2.6-4.5-3.4v-8.3c3.2-0.7%2C5.4-3.5%2C5.5-6.7%0A%09%09%09%09%09c-0.1-3.8-3.3-6.7-7.1-6.6c-3.6%2C0.1-6.4%2C3-6.6%2C6.6c0%2C3.2%2C2.3%2C6%2C5.5%2C6.7v8.3c0%2C2%2C0.7%2C4.6%2C6.6%2C6.1c3%2C0.8%2C6%2C1.5%2C9.1%2C1.9%0A%09%09%09%09%09c0.3%2C0%2C0.6%2C0.1%2C0.8%2C0.1c1%2C0%2C1.9-0.3%2C2.6-1c0.9-0.8%2C1.4-1.9%2C1.4-3.1v-4.5c2-0.8%2C4.1-2%2C4.1-3.7C79.7%2C55.9%2C79%2C54.6%2C77.5%2C52.5z%22%2F%3E%0A%09%09%09%3C%2Fdefs%3E%0A%09%09%09%3CclipPath%20id%3D%22SVGID_00000006699542123669355140000017780821947155755945_%22%3E%0A%09%09%09%09%3Cuse%20xlink%3Ahref%3D%22%23SVGID_00000023986984125224352720000009086132040101336737_%22%20%20style%3D%22overflow%3Avisible%3B%22%2F%3E%0A%09%09%09%3C%2FclipPath%3E%0A%09%09%09%3Cg%20style%3D%22clip-path%3Aurl%28%23SVGID_00000006699542123669355140000017780821947155755945_%29%3B%22%3E%0A%09%09%09%09%0A%09%09%09%09%09%3ClinearGradient%20id%3D%22SVGID_00000026122523136626835960000002478553622608917946_%22%20gradientUnits%3D%22userSpaceOnUse%22%20x1%3D%22-1341.4%22%20y1%3D%22-703.5%22%20x2%3D%22449.7%22%20y2%3D%22-703.5%22%20gradientTransform%3D%22matrix%281%200%200%20-1%200%20-876%29%22%3E%0A%09%09%09%09%09%3Cstop%20%20offset%3D%220%22%20style%3D%22stop-color%3A%23AB74FF%22%2F%3E%0A%09%09%09%09%09%3Cstop%20%20offset%3D%220.21%22%20style%3D%22stop-color%3A%23866AFF%22%2F%3E%0A%09%09%09%09%09%3Cstop%20%20offset%3D%220.75%22%20style%3D%22stop-color%3A%232A4FFF%22%2F%3E%0A%09%09%09%09%09%3Cstop%20%20offset%3D%221%22%20style%3D%22stop-color%3A%230645FF%22%2F%3E%0A%09%09%09%09%3C%2FlinearGradient%3E%0A%09%09%09%09%0A%09%09%09%09%09%3Crect%20x%3D%22-1341.4%22%20y%3D%22-876.9%22%20style%3D%22fill%3Aurl%28%23SVGID_00000026122523136626835960000002478553622608917946_%29%3B%22%20width%3D%221791.1%22%20height%3D%221408.8%22%2F%3E%0A%09%09%09%09%3Cg%3E%0A%09%09%09%09%09%3Cg%3E%0A%09%09%09%09%09%09%3Cg%3E%0A%09%09%09%09%09%09%09%3Cdefs%3E%0A%09%09%09%09%09%09%09%09%0A%09%09%09%09%09%09%09%09%09%3Crect%20id%3D%22SVGID_00000092419828439669074140000018282898976634141093_%22%20x%3D%22-1341.4%22%20y%3D%22-876.9%22%20width%3D%221791.1%22%20height%3D%221408.8%22%2F%3E%0A%09%09%09%09%09%09%09%3C%2Fdefs%3E%0A%09%09%09%09%09%09%09%3CclipPath%20id%3D%22SVGID_00000169539519440569573770000014740891924247314326_%22%3E%0A%09%09%09%09%09%09%09%09%3Cuse%20xlink%3Ahref%3D%22%23SVGID_00000092419828439669074140000018282898976634141093_%22%20%20style%3D%22overflow%3Avisible%3B%22%2F%3E%0A%09%09%09%09%09%09%09%3C%2FclipPath%3E%0A%09%09%09%09%09%09%09%3Cg%20style%3D%22clip-path%3Aurl%28%23SVGID_00000169539519440569573770000014740891924247314326_%29%3B%22%3E%0A%09%09%09%09%09%09%09%09%0A%09%09%09%09%09%09%09%09%09%3ClinearGradient%20id%3D%22SVGID_00000106844134518210696150000001682923129671618217_%22%20gradientUnits%3D%22userSpaceOnUse%22%20x1%3D%2236%22%20y1%3D%22-926.05%22%20x2%3D%2286.5%22%20y2%3D%22-926.05%22%20gradientTransform%3D%22matrix%281%200%200%20-1%200%20-876%29%22%3E%0A%09%09%09%09%09%09%09%09%09%3Cstop%20%20offset%3D%220%22%20style%3D%22stop-color%3A%23AB74FF%22%2F%3E%0A%09%09%09%09%09%09%09%09%09%3Cstop%20%20offset%3D%220.21%22%20style%3D%22stop-color%3A%23866AFF%22%2F%3E%0A%09%09%09%09%09%09%09%09%09%3Cstop%20%20offset%3D%220.75%22%20style%3D%22stop-color%3A%232A4FFF%22%2F%3E%0A%09%09%09%09%09%09%09%09%09%3Cstop%20%20offset%3D%221%22%20style%3D%22stop-color%3A%230645FF%22%2F%3E%0A%09%09%09%09%09%09%09%09%3C%2FlinearGradient%3E%0A%09%09%09%09%09%09%09%09%0A%09%09%09%09%09%09%09%09%09%3Crect%20x%3D%2236%22%20y%3D%2224.1%22%20style%3D%22fill%3Aurl%28%23SVGID_00000106844134518210696150000001682923129671618217_%29%3B%22%20width%3D%2250.5%22%20height%3D%2251.9%22%2F%3E%0A%09%09%09%09%09%09%09%3C%2Fg%3E%0A%09%09%09%09%09%09%3C%2Fg%3E%0A%09%09%09%09%09%3C%2Fg%3E%0A%09%09%09%09%3C%2Fg%3E%0A%09%09%09%3C%2Fg%3E%0A%09%09%3C%2Fg%3E%0A%09%3C%2Fg%3E%0A%3C%2Fg%3E%0A%3Ccircle%20class%3D%22st5%22%20cx%3D%2256.5%22%20cy%3D%2245.9%22%20r%3D%225.4%22%2F%3E%0A%3Ccircle%20class%3D%22st6%22%20cx%3D%2248.3%22%20cy%3D%2265%22%20r%3D%221.6%22%2F%3E%0A%3Ccircle%20class%3D%22st6%22%20cx%3D%2264.8%22%20cy%3D%2258.2%22%20r%3D%221.6%22%2F%3E%0A%3ClinearGradient%20id%3D%22SVGID_00000121260344813135191390000015347433539899256216_%22%20gradientUnits%3D%22userSpaceOnUse%22%20x1%3D%22773.8%22%20y1%3D%22-926%22%20x2%3D%221796%22%20y2%3D%22-926%22%20gradientTransform%3D%22matrix%281%200%200%20-1%200%20-876%29%22%3E%0A%09%3Cstop%20%20offset%3D%220%22%20style%3D%22stop-color%3A%23161616%22%2F%3E%0A%09%3Cstop%20%20offset%3D%220.52%22%20style%3D%22stop-color%3A%23AB74FF%22%2F%3E%0A%09%3Cstop%20%20offset%3D%220.62%22%20style%3D%22stop-color%3A%23866AFF%22%2F%3E%0A%09%3Cstop%20%20offset%3D%220.88%22%20style%3D%22stop-color%3A%232A4FFF%22%2F%3E%0A%09%3Cstop%20%20offset%3D%221%22%20style%3D%22stop-color%3A%230645FF%22%2F%3E%0A%3C%2FlinearGradient%3E%0A%3Crect%20x%3D%22773.8%22%20style%3D%22opacity%3A0.2%3Bfill%3Aurl%28%23SVGID_00000121260344813135191390000015347433539899256216_%29%3Benable-background%3Anew%20%20%20%20%3B%22%20width%3D%221022.2%22%20height%3D%22100%22%2F%3E%0A%3Ctext%20transform%3D%22matrix%281%200%200%201%201309.5752%2059.46%29%22%20class%3D%22st8%20st9%20st10%22%3EIncremental%20learning%20notebook%3C%2Ftext%3E%0A%3Ctext%20transform%3D%22matrix%281%200%200%201%20101.02%2059.33%29%22%20class%3D%22st8%20st11%20st10%22%3EAutoAI%3C%2Ftext%3E%0A%3Crect%20x%3D%22231.1%22%20y%3D%2234%22%20class%3D%22st12%22%20width%3D%221%22%20height%3D%2232%22%2F%3E%0A%3Ctext%20transform%3D%22matrix%281%200%200%201%20256.29%2059.66%29%22%20class%3D%22st13%20st11%20st10%22%3EPart%20of%20IBM%20Watson%C2%AE%20Studio%3C%2Ftext%3E%0A%3C%2Fsvg%3E)\n",
        "# Pipeline 5 Notebook for training continuation - AutoAI Notebook v2.1.7\n",
        "\n",
        "Consider these tips for working with an auto-generated notebook:\n",
        "- Notebook code generated using AutoAI will execute successfully. If you modify the notebook, we cannot guarantee it will run successfully.\n",
        "- This pipeline is optimized for the original data set. The pipeline might fail or produce sub-optimal results if used with different data.  If you want to use a different data set, consider retraining the AutoAI experiment to generate a new pipeline. For more information, see <a href=\"https://dataplatform.cloud.ibm.com/docs/content/wsj/analyze-data/autoai-notebook.html\">Cloud Platform</a>.\n",
        "- Before modifying the pipeline or trying to re-fit the pipeline, consider that the code converts dataframes to numpy arrays before fitting the pipeline (a current restriction of the preprocessor pipeline).\n"
      ]
    },
    {
      "cell_type": "markdown",
      "metadata": {
        "id": "AFZChELO6OLs"
      },
      "source": [
        "<a id=\"content\"></a>\n",
        "## Notebook content\n",
        "\n",
        "This notebook contains code to resume and continue training an AutoAI pipeline partially trained in an AutoAI experiment. If there is additional training data, the notebook retrieves the data in batches and incrementally trains the model, then tests the model.\n",
        "\n",
        "Some familiarity with Python is helpful. This notebook uses python 3.11 and scikit-learn 1.3."
      ]
    },
    {
      "cell_type": "markdown",
      "metadata": {
        "pycharm": {
          "name": "#%% md\n"
        },
        "id": "7pUM9lMi6OLs"
      },
      "source": [
        "## Notebook goals\n",
        "\n",
        "This notebook introduces new commands and demonstrates techniques to support incremental learning, including:\n",
        "\n",
        "-  Data reader (read data in batches)\n",
        "-  Incremental learning (`partial_fit`)\n",
        "-  Pipeline evaluation\n",
        "\n",
        "## Contents\n",
        "\n",
        "This notebook contains the following parts:\n",
        "\n",
        "**[Setup](#Setup)**<br>\n",
        "&nbsp;&nbsp;[Package installation](#Package-installation)<br>\n",
        "&nbsp;&nbsp;[AutoAI experiment metadata](#AutoAI-experiment-metadata)<br>\n",
        "&nbsp;&nbsp;[watsonx.ai connection](#watsonx.ai-connection)<br>\n",
        "**[Incremental learning](#Incremental-learning)** <br>\n",
        "&nbsp;&nbsp;[Get pipeline](#Get-pipeline)<br>\n",
        "&nbsp;&nbsp;[Read training data (DataLoader)](#Data-loader)<br>\n",
        "&nbsp;&nbsp;[Incrementally train pipeline model](#Continue-model-training)<br>\n",
        "&nbsp;&nbsp;[Test pipeline model](#Test-pipeline-model)<br>\n",
        "**[Store the model](#Store-the-model)**<br>\n",
        "**[Create online deployment](#Create-online-deployment)**<br>\n",
        "&nbsp;&nbsp;[Working with spaces](#Working-with-spaces)<br>\n",
        "**[Summary and next steps](#Summary-and-next-steps)**<br>\n",
        "**[Copyrights](#Copyrights)**"
      ]
    },
    {
      "cell_type": "markdown",
      "metadata": {
        "id": "EiZTwGKg6OLt"
      },
      "source": [
        "<a id=\"setup\"></a>\n",
        "# Setup"
      ]
    },
    {
      "cell_type": "markdown",
      "metadata": {
        "id": "EWrcy87i6OLt"
      },
      "source": [
        "<a id=\"install\"></a>\n",
        "## Package installation\n",
        "Before you use the sample code in this notebook, install the following packages:\n",
        " - ibm-watsonx-ai,\n",
        " - autoai-libs,\n",
        " - scikit-learn,\n",
        " - snapml\n"
      ]
    },
    {
      "cell_type": "code",
      "execution_count": 1,
      "metadata": {
        "execution": {
          "iopub.execute_input": "2020-10-12T14:00:45.009458Z",
          "iopub.status.busy": "2020-10-12T14:00:45.007968Z",
          "iopub.status.idle": "2020-10-12T14:00:46.037702Z",
          "shell.execute_reply": "2020-10-12T14:00:46.038270Z"
        },
        "pycharm": {
          "name": "#%%\n"
        },
        "scrolled": true,
        "colab": {
          "base_uri": "https://localhost:8080/"
        },
        "id": "XxgPtFML6OLu",
        "outputId": "ca1f27e7-7ac9-478d-f6ec-35b9a091b460"
      },
      "outputs": [
        {
          "output_type": "stream",
          "name": "stdout",
          "text": [
            "Requirement already satisfied: typing_extensions>=4.5 in /usr/local/lib/python3.11/dist-packages (from anyio->httpx<0.29,>=0.27->ibm-watsonx-ai) (4.14.1)\n",
            "Requirement already satisfied: sortedcontainers~=2.2 in /usr/local/lib/python3.11/dist-packages (from portion->jsonsubschema>=0.0.6->lale~=0.8.0->autoai-libs~=2.0) (2.4.0)\n",
            "Requirement already satisfied: threadpoolctl>=2.0.0 in /usr/local/lib/python3.11/dist-packages (from scikit-learn==1.3.*) (3.6.0)\n",
            "Requirement already satisfied: sortedcontainers~=2.2 in /usr/local/lib/python3.11/dist-packages (from portion->jsonsubschema>=0.0.6->lale~=0.8.3) (2.4.0)\n",
            "Successfully installed snapml-1.14.6\n"
          ]
        }
      ],
      "source": [
        "!pip install ibm-watsonx-ai | tail -n 1\n",
        "!pip install autoai-libs~=2.0 | tail -n 1\n",
        "!pip install scikit-learn==1.3.* | tail -n 1\n",
        "!pip install -U lale~=0.8.3 | tail -n 1\n",
        "!pip install snapml==1.14.* | tail -n 1"
      ]
    },
    {
      "cell_type": "markdown",
      "metadata": {
        "id": "qXVNCwsF6OLv"
      },
      "source": [
        "<a id=\"variables_definition\"></a>\n",
        "## AutoAI experiment metadata\n",
        "The following cell contains the training data connection details.  \n",
        "**Note**: The connection might contain authorization credentials, so be careful when sharing the notebook."
      ]
    },
    {
      "cell_type": "code",
      "execution_count": 2,
      "metadata": {
        "execution": {
          "iopub.execute_input": "2020-10-12T14:00:49.797633Z",
          "iopub.status.busy": "2020-10-12T14:00:49.796778Z",
          "iopub.status.idle": "2020-10-12T14:00:57.182715Z",
          "shell.execute_reply": "2020-10-12T14:00:57.183132Z"
        },
        "pycharm": {
          "is_executing": true
        },
        "id": "TvuXeIKz6OLv"
      },
      "outputs": [],
      "source": [
        "from ibm_watsonx_ai.helpers import DataConnection\n",
        "from ibm_watsonx_ai.helpers import ContainerLocation\n",
        "\n",
        "training_data_references = [\n",
        "    DataConnection(\n",
        "        data_asset_id='48dbb7e8-1800-4db5-96f5-41a9dec667a4'\n",
        "    ),\n",
        "]\n",
        "training_result_reference = DataConnection(\n",
        "    location=ContainerLocation(\n",
        "        path='auto_ml/1742f323-2ead-476c-bf53-3a5da410697f/wml_data/29965031-6e83-4bae-ad9f-2ea8f8b7691a/data/automl',\n",
        "        model_location='auto_ml/1742f323-2ead-476c-bf53-3a5da410697f/wml_data/29965031-6e83-4bae-ad9f-2ea8f8b7691a/data/automl/model.zip',\n",
        "        training_status='auto_ml/1742f323-2ead-476c-bf53-3a5da410697f/wml_data/29965031-6e83-4bae-ad9f-2ea8f8b7691a/training-status.json'\n",
        "    )\n",
        ")"
      ]
    },
    {
      "cell_type": "markdown",
      "metadata": {
        "id": "sHAx53ib6OLw"
      },
      "source": [
        "The following cell contains input parameters provided to run the AutoAI experiment in Watson Studio."
      ]
    },
    {
      "cell_type": "code",
      "execution_count": 3,
      "metadata": {
        "execution": {
          "iopub.execute_input": "2020-10-12T14:00:57.187305Z",
          "iopub.status.busy": "2020-10-12T14:00:57.186602Z",
          "iopub.status.idle": "2020-10-12T14:00:57.188392Z",
          "shell.execute_reply": "2020-10-12T14:00:57.188878Z"
        },
        "pycharm": {
          "name": "#%%\n"
        },
        "id": "GMvdRCeX6OLw"
      },
      "outputs": [],
      "source": [
        "experiment_metadata = dict(\n",
        "    prediction_type='multiclass',\n",
        "    prediction_column='Failure Type',\n",
        "    holdout_size=0.1,\n",
        "    scoring='accuracy',\n",
        "    csv_separator=',',\n",
        "    random_state=33,\n",
        "    max_number_of_estimators=2,\n",
        "    training_data_references=training_data_references,\n",
        "    training_result_reference=training_result_reference,\n",
        "    deployment_url='https://eu-gb.ml.cloud.ibm.com',\n",
        "    project_id='f573001e-adae-4d0f-b48e-4274203ebed0',\n",
        "    drop_duplicates=True,\n",
        "    include_batched_ensemble_estimators=['BatchedTreeEnsembleClassifier(ExtraTreesClassifier)', 'BatchedTreeEnsembleClassifier(LGBMClassifier)', 'BatchedTreeEnsembleClassifier(RandomForestClassifier)', 'BatchedTreeEnsembleClassifier(SnapBoostingMachineClassifier)', 'BatchedTreeEnsembleClassifier(SnapRandomForestClassifier)', 'BatchedTreeEnsembleClassifier(XGBClassifier)'],\n",
        "    classes=['Heat Dissipation Failure', 'No Failure', 'Overstrain Failure', 'Power Failure', 'Random Failures', 'Tool Wear Failure'],\n",
        "    feature_selector_mode='auto'\n",
        ")"
      ]
    },
    {
      "cell_type": "markdown",
      "metadata": {
        "id": "vGmF2R9L6OLw"
      },
      "source": [
        "## Set `n_jobs` parameter to the number of available CPUs"
      ]
    },
    {
      "cell_type": "code",
      "execution_count": 4,
      "metadata": {
        "id": "KOrGDHIN6OLw"
      },
      "outputs": [],
      "source": [
        "import os, ast\n",
        "CPU_NUMBER = 4\n",
        "if 'RUNTIME_HARDWARE_SPEC' in os.environ:\n",
        "    CPU_NUMBER = int(ast.literal_eval(os.environ['RUNTIME_HARDWARE_SPEC'])['num_cpu'])"
      ]
    },
    {
      "cell_type": "markdown",
      "metadata": {
        "id": "a8IuvaBX6OLx"
      },
      "source": [
        "<a id=\"connection\"></a>\n",
        "## watsonx.ai connection\n",
        "\n",
        "This cell defines the credentials required to work with the watsonx.ai Runtime.\n",
        "\n",
        "**Action**: Provide the IBM Cloud apikey, For details, see [documentation](https://cloud.ibm.com/docs/account?topic=account-userapikey)."
      ]
    },
    {
      "cell_type": "code",
      "execution_count": 7,
      "metadata": {
        "colab": {
          "base_uri": "https://localhost:8080/"
        },
        "id": "tCSP_OwB6OLx",
        "outputId": "02373be1-479b-490e-8fe6-14bc6d615b39"
      },
      "outputs": [
        {
          "name": "stdout",
          "output_type": "stream",
          "text": [
            "Please enter your api key (press enter): ··········\n"
          ]
        }
      ],
      "source": [
        "import getpass\n",
        "\n",
        "api_key = getpass.getpass(\"Please enter your api key (press enter): \")"
      ]
    },
    {
      "cell_type": "code",
      "execution_count": 8,
      "metadata": {
        "id": "8bJ2KO8Z6OLx"
      },
      "outputs": [],
      "source": [
        "from ibm_watsonx_ai import Credentials\n",
        "\n",
        "credentials = Credentials(\n",
        "    api_key=api_key,\n",
        "    url=experiment_metadata['deployment_url']\n",
        ")"
      ]
    },
    {
      "cell_type": "code",
      "execution_count": 9,
      "metadata": {
        "id": "hxaTlcK76OLx"
      },
      "outputs": [],
      "source": [
        "from ibm_watsonx_ai import APIClient\n",
        "\n",
        "client = APIClient(credentials)\n",
        "\n",
        "if 'space_id' in experiment_metadata:\n",
        "    client.set.default_space(experiment_metadata['space_id'])\n",
        "else:\n",
        "    client.set.default_project(experiment_metadata['project_id'])\n",
        "\n",
        "training_data_references[0].set_client(client)"
      ]
    },
    {
      "cell_type": "markdown",
      "metadata": {
        "id": "QJ--b_Vy6OLx"
      },
      "source": [
        "<a id=\"incremental_learning\"></a>\n",
        "# Incremental learning"
      ]
    },
    {
      "cell_type": "markdown",
      "metadata": {
        "id": "APR6sKdI6OLx"
      },
      "source": [
        "<a id=\"preview_model_to_python_code\"></a>\n",
        "## Get pipeline\n",
        "\n",
        "Download and save a pipeline model object from the AutoAI training job (`lale` pipeline type is used for inspection and `partial_fit` capabilities)."
      ]
    },
    {
      "cell_type": "code",
      "execution_count": 10,
      "metadata": {
        "colab": {
          "base_uri": "https://localhost:8080/"
        },
        "id": "9NrHzwrD6OLx",
        "outputId": "8e2776aa-41bb-4f78-a5bb-90d6a90e0310"
      },
      "outputs": [
        {
          "output_type": "stream",
          "name": "stderr",
          "text": [
            "/usr/local/lib/python3.11/dist-packages/sklearn/base.py:348: InconsistentVersionWarning: Trying to unpickle estimator SimpleImputer from version 1.3.0 when using version 1.3.2. This might lead to breaking code or invalid results. Use at your own risk. For more info please refer to:\n",
            "https://scikit-learn.org/stable/model_persistence.html#security-maintainability-limitations\n",
            "  warnings.warn(\n",
            "/usr/local/lib/python3.11/dist-packages/sklearn/base.py:348: InconsistentVersionWarning: Trying to unpickle estimator OrdinalEncoder from version 1.3.0 when using version 1.3.2. This might lead to breaking code or invalid results. Use at your own risk. For more info please refer to:\n",
            "https://scikit-learn.org/stable/model_persistence.html#security-maintainability-limitations\n",
            "  warnings.warn(\n",
            "/usr/local/lib/python3.11/dist-packages/sklearn/base.py:348: InconsistentVersionWarning: Trying to unpickle estimator Pipeline from version 1.3.0 when using version 1.3.2. This might lead to breaking code or invalid results. Use at your own risk. For more info please refer to:\n",
            "https://scikit-learn.org/stable/model_persistence.html#security-maintainability-limitations\n",
            "  warnings.warn(\n",
            "/usr/local/lib/python3.11/dist-packages/sklearn/base.py:348: InconsistentVersionWarning: Trying to unpickle estimator FeatureUnion from version 1.3.0 when using version 1.3.2. This might lead to breaking code or invalid results. Use at your own risk. For more info please refer to:\n",
            "https://scikit-learn.org/stable/model_persistence.html#security-maintainability-limitations\n",
            "  warnings.warn(\n",
            "/usr/local/lib/python3.11/dist-packages/sklearn/base.py:348: InconsistentVersionWarning: Trying to unpickle estimator PCA from version 1.3.0 when using version 1.3.2. This might lead to breaking code or invalid results. Use at your own risk. For more info please refer to:\n",
            "https://scikit-learn.org/stable/model_persistence.html#security-maintainability-limitations\n",
            "  warnings.warn(\n",
            "/usr/local/lib/python3.11/dist-packages/sklearn/base.py:348: InconsistentVersionWarning: Trying to unpickle estimator Pipeline from version 1.3.0 when using version 1.3.2. This might lead to breaking code or invalid results. Use at your own risk. For more info please refer to:\n",
            "https://scikit-learn.org/stable/model_persistence.html#security-maintainability-limitations\n",
            "  warnings.warn(\n"
          ]
        }
      ],
      "source": [
        "from ibm_watsonx_ai.experiment import AutoAI\n",
        "\n",
        "pipeline_optimizer = AutoAI(credentials, project_id=experiment_metadata['project_id']).runs.get_optimizer(metadata=experiment_metadata)\n",
        "pipeline_model = pipeline_optimizer.get_pipeline(pipeline_name='Pipeline_5', astype='lale')"
      ]
    },
    {
      "cell_type": "markdown",
      "metadata": {
        "id": "3ynit3fo6OLy"
      },
      "source": [
        "<a id=\"data_loader\"></a>\n",
        "## Data loader\n",
        "\n",
        "Create DataLoader iterator to retrieve training dataset in batches. DataLoader is `Torch` compatible (`torch.utils.data`), returning Pandas DataFrames.\n",
        "\n",
        "**Note**: If reading data results in an error, provide data as iterable reader (e.g. `read_csv()` method from Pandas with chunks). It may be necessary to use methods for initial data pre-processing like: e.g. `DataFrame.dropna()`, `DataFrame.drop_duplicates()`, `DataFrame.sample()`.\n",
        "\n",
        "```\n",
        "reader_full_data = pd.read_csv(DATA_PATH, chunksize=CHUNK_SIZE)\n",
        "```"
      ]
    },
    {
      "cell_type": "markdown",
      "metadata": {
        "id": "whPmEy526OLy"
      },
      "source": [
        "Batch size in rows."
      ]
    },
    {
      "cell_type": "code",
      "execution_count": 11,
      "metadata": {
        "id": "7QhTGjAP6OLy"
      },
      "outputs": [],
      "source": [
        "number_of_batch_rows = 10000"
      ]
    },
    {
      "cell_type": "code",
      "execution_count": 12,
      "metadata": {
        "id": "3HxcgsHK6OLy"
      },
      "outputs": [],
      "source": [
        "from ibm_watsonx_ai.data_loaders import experiment as data_loaders\n",
        "from ibm_watsonx_ai.data_loaders.datasets import experiment as datasets\n",
        "\n",
        "dataset = datasets.ExperimentIterableDataset(\n",
        "    connection=training_data_references[0],\n",
        "    enable_sampling=False,\n",
        "    experiment_metadata=experiment_metadata,\n",
        "    number_of_batch_rows=number_of_batch_rows\n",
        "    )\n",
        "\n",
        "data_loader = data_loaders.ExperimentDataLoader(dataset=dataset)"
      ]
    },
    {
      "cell_type": "markdown",
      "metadata": {
        "id": "D3iOx_Sd6OLy"
      },
      "source": [
        "<a id=\"train\"></a>\n",
        "## Continue model training\n",
        "\n",
        "In this cell, the pipeline is incrementally fitted using data batches (via `partial_fit` calls).\n",
        "\n",
        "**Note**: If you need, you can evaluate the pipeline using custom holdout data. Provide the `X_test`, `y_test` and call `scorer` on them.\n"
      ]
    },
    {
      "cell_type": "markdown",
      "metadata": {
        "id": "gJTqudMc6OLy"
      },
      "source": [
        "### Define scorer from the optimization metric\n",
        "This cell constructs the cell scorer based on the experiment metadata."
      ]
    },
    {
      "cell_type": "code",
      "execution_count": 13,
      "metadata": {
        "id": "x97gCpN-6OLy"
      },
      "outputs": [],
      "source": [
        "from sklearn.metrics import get_scorer\n",
        "\n",
        "scorer = get_scorer(experiment_metadata['scoring'])"
      ]
    },
    {
      "cell_type": "markdown",
      "metadata": {
        "id": "r0eC6wIA6OLy"
      },
      "source": [
        "### Tuning the incremental learner\n",
        "\n",
        "For the best training performance set:\n",
        "\n",
        "- `n_jobs` - to available number of CPUs."
      ]
    },
    {
      "cell_type": "code",
      "execution_count": 14,
      "metadata": {
        "colab": {
          "base_uri": "https://localhost:8080/",
          "height": 110
        },
        "id": "Cz_mdHjj6OLy",
        "outputId": "c6dc3b1c-fb77-4dc8-d9df-190f1be748b9"
      },
      "outputs": [
        {
          "output_type": "execute_result",
          "data": {
            "text/plain": [
              "SnapRandomForestClassifier(compress_trees=True,\n",
              "                           gpu_ids=array([0], dtype=uint32), max_depth=10,\n",
              "                           n_jobs=4, random_state=33)"
            ],
            "text/html": [
              "<style>#sk-container-id-1 {color: black;}#sk-container-id-1 pre{padding: 0;}#sk-container-id-1 div.sk-toggleable {background-color: white;}#sk-container-id-1 label.sk-toggleable__label {cursor: pointer;display: block;width: 100%;margin-bottom: 0;padding: 0.3em;box-sizing: border-box;text-align: center;}#sk-container-id-1 label.sk-toggleable__label-arrow:before {content: \"▸\";float: left;margin-right: 0.25em;color: #696969;}#sk-container-id-1 label.sk-toggleable__label-arrow:hover:before {color: black;}#sk-container-id-1 div.sk-estimator:hover label.sk-toggleable__label-arrow:before {color: black;}#sk-container-id-1 div.sk-toggleable__content {max-height: 0;max-width: 0;overflow: hidden;text-align: left;background-color: #f0f8ff;}#sk-container-id-1 div.sk-toggleable__content pre {margin: 0.2em;color: black;border-radius: 0.25em;background-color: #f0f8ff;}#sk-container-id-1 input.sk-toggleable__control:checked~div.sk-toggleable__content {max-height: 200px;max-width: 100%;overflow: auto;}#sk-container-id-1 input.sk-toggleable__control:checked~label.sk-toggleable__label-arrow:before {content: \"▾\";}#sk-container-id-1 div.sk-estimator input.sk-toggleable__control:checked~label.sk-toggleable__label {background-color: #d4ebff;}#sk-container-id-1 div.sk-label input.sk-toggleable__control:checked~label.sk-toggleable__label {background-color: #d4ebff;}#sk-container-id-1 input.sk-hidden--visually {border: 0;clip: rect(1px 1px 1px 1px);clip: rect(1px, 1px, 1px, 1px);height: 1px;margin: -1px;overflow: hidden;padding: 0;position: absolute;width: 1px;}#sk-container-id-1 div.sk-estimator {font-family: monospace;background-color: #f0f8ff;border: 1px dotted black;border-radius: 0.25em;box-sizing: border-box;margin-bottom: 0.5em;}#sk-container-id-1 div.sk-estimator:hover {background-color: #d4ebff;}#sk-container-id-1 div.sk-parallel-item::after {content: \"\";width: 100%;border-bottom: 1px solid gray;flex-grow: 1;}#sk-container-id-1 div.sk-label:hover label.sk-toggleable__label {background-color: #d4ebff;}#sk-container-id-1 div.sk-serial::before {content: \"\";position: absolute;border-left: 1px solid gray;box-sizing: border-box;top: 0;bottom: 0;left: 50%;z-index: 0;}#sk-container-id-1 div.sk-serial {display: flex;flex-direction: column;align-items: center;background-color: white;padding-right: 0.2em;padding-left: 0.2em;position: relative;}#sk-container-id-1 div.sk-item {position: relative;z-index: 1;}#sk-container-id-1 div.sk-parallel {display: flex;align-items: stretch;justify-content: center;background-color: white;position: relative;}#sk-container-id-1 div.sk-item::before, #sk-container-id-1 div.sk-parallel-item::before {content: \"\";position: absolute;border-left: 1px solid gray;box-sizing: border-box;top: 0;bottom: 0;left: 50%;z-index: -1;}#sk-container-id-1 div.sk-parallel-item {display: flex;flex-direction: column;z-index: 1;position: relative;background-color: white;}#sk-container-id-1 div.sk-parallel-item:first-child::after {align-self: flex-end;width: 50%;}#sk-container-id-1 div.sk-parallel-item:last-child::after {align-self: flex-start;width: 50%;}#sk-container-id-1 div.sk-parallel-item:only-child::after {width: 0;}#sk-container-id-1 div.sk-dashed-wrapped {border: 1px dashed gray;margin: 0 0.4em 0.5em 0.4em;box-sizing: border-box;padding-bottom: 0.4em;background-color: white;}#sk-container-id-1 div.sk-label label {font-family: monospace;font-weight: bold;display: inline-block;line-height: 1.2em;}#sk-container-id-1 div.sk-label-container {text-align: center;}#sk-container-id-1 div.sk-container {/* jupyter's `normalize.less` sets `[hidden] { display: none; }` but bootstrap.min.css set `[hidden] { display: none !important; }` so we also need the `!important` here to be able to override the default hidden behavior on the sphinx rendered scikit-learn.org. See: https://github.com/scikit-learn/scikit-learn/issues/21755 */display: inline-block !important;position: relative;}#sk-container-id-1 div.sk-text-repr-fallback {display: none;}</style><div id=\"sk-container-id-1\" class=\"sk-top-container\"><div class=\"sk-text-repr-fallback\"><pre>SnapRandomForestClassifier(compress_trees=True,\n",
              "                           gpu_ids=array([0], dtype=uint32), max_depth=10,\n",
              "                           n_jobs=4, random_state=33)</pre><b>In a Jupyter environment, please rerun this cell to show the HTML representation or trust the notebook. <br />On GitHub, the HTML representation is unable to render, please try loading this page with nbviewer.org.</b></div><div class=\"sk-container\" hidden><div class=\"sk-item\"><div class=\"sk-estimator sk-toggleable\"><input class=\"sk-toggleable__control sk-hidden--visually\" id=\"sk-estimator-id-1\" type=\"checkbox\" checked><label for=\"sk-estimator-id-1\" class=\"sk-toggleable__label sk-toggleable__label-arrow\">SnapRandomForestClassifier</label><div class=\"sk-toggleable__content\"><pre>SnapRandomForestClassifier(compress_trees=True,\n",
              "                           gpu_ids=array([0], dtype=uint32), max_depth=10,\n",
              "                           n_jobs=4, random_state=33)</pre></div></div></div></div></div>"
            ]
          },
          "metadata": {},
          "execution_count": 14
        }
      ],
      "source": [
        "pipeline_model.steps[-1][1].impl.base_ensemble.set_params(n_jobs=CPU_NUMBER)"
      ]
    },
    {
      "cell_type": "markdown",
      "metadata": {
        "id": "fizUEelt6OLy"
      },
      "source": [
        "### Set up a learning curve plot"
      ]
    },
    {
      "cell_type": "code",
      "execution_count": 15,
      "metadata": {
        "id": "DGtlMmH26OLz"
      },
      "outputs": [],
      "source": [
        "import matplotlib.pyplot as plt\n",
        "from ibm_watsonx_ai.utils.autoai.incremental import plot_learning_curve\n",
        "import time\n",
        "\n",
        "partial_fit_scores = []\n",
        "fit_times = []"
      ]
    },
    {
      "cell_type": "markdown",
      "metadata": {
        "id": "oV9jtmJ86OLz"
      },
      "source": [
        "<a id=\"test_model\"></a>\n",
        "### Fit pipeline model in batches\n",
        "\n",
        "**Tip**: If the data passed to `partial_fit` is highly imbalanced (>1:10), please consider applying the `sample_weight` parameter:\n",
        "\n",
        "```\n",
        "from sklearn.utils.class_weight import compute_sample_weight\n",
        "\n",
        "pipeline_model.partial_fit(X_train, y_train, freeze_trained_prefix=True,\n",
        "                                             sample_weight=compute_sample_weight('balanced', y_train))\n",
        "```                                                                                      "
      ]
    },
    {
      "cell_type": "markdown",
      "metadata": {
        "id": "epxIiJGF6OLz"
      },
      "source": [
        "**Note**: If you have a holdout/test set please provide it for better pipeline evaluation and replace X_test and y_test in the following cell.\n",
        "\n",
        "```\n",
        "from pandas import read_csv\n",
        "test_df = read_csv('DATA_PATH')\n",
        "\n",
        "X_test = test_df.drop([experiment_metadata['prediction_column']], axis=1).values\n",
        "y_test = test_df[experiment_metadata['prediction_column']].values\n",
        "```\n",
        "\n",
        "If holdout set was not provided, 30% of first training batch would be used as holdout.\n",
        "\n"
      ]
    },
    {
      "cell_type": "markdown",
      "metadata": {
        "id": "73fwRnAt6OLz"
      },
      "source": [
        "Filter warnings for incremental training."
      ]
    },
    {
      "cell_type": "code",
      "execution_count": 16,
      "metadata": {
        "id": "Y-al6a9Y6OLz"
      },
      "outputs": [],
      "source": [
        "import warnings\n",
        "\n",
        "warnings.filterwarnings('ignore')"
      ]
    },
    {
      "cell_type": "code",
      "execution_count": 17,
      "metadata": {
        "colab": {
          "base_uri": "https://localhost:8080/",
          "height": 154
        },
        "id": "VO0_sXf36OLz",
        "outputId": "29593d12-c7bc-48f3-d088-e34b1505834b"
      },
      "outputs": [
        {
          "output_type": "display_data",
          "data": {
            "text/plain": [
              "<Figure size 1800x400 with 3 Axes>"
            ],
            "image/png": "[encoded data removed]"
          },
          "metadata": {}
        }
      ],
      "source": [
        "from sklearn.model_selection import train_test_split\n",
        "\n",
        "fig, axes = plt.subplots(1, 3, figsize=(18, 4))\n",
        "\n",
        "for i, batch_df in enumerate(data_loader):\n",
        "    batch_df.dropna(subset=experiment_metadata[\"prediction_column\"], inplace=True)\n",
        "    X_train = batch_df.drop([experiment_metadata['prediction_column']], axis=1).values\n",
        "    y_train = batch_df[experiment_metadata['prediction_column']].values\n",
        "    if i==0:\n",
        "        X_train, X_test, y_train, y_test = train_test_split(X_train, y_train, test_size=0.3)\n",
        "    start_time = time.time()\n",
        "    pipeline_model = pipeline_model.partial_fit(X_train, y_train, freeze_trained_prefix=True)\n",
        "    fit_times.append(time.time() - start_time)\n",
        "    partial_fit_scores.append(scorer(pipeline_model, X_test, y_test))\n",
        "    plot_learning_curve(fig=fig, axes=axes, scores=partial_fit_scores, fit_times=fit_times)"
      ]
    },
    {
      "cell_type": "markdown",
      "metadata": {
        "id": "C8vp9D1H6OLz"
      },
      "source": [
        "<a id=\"test_model\"></a>\n",
        "## Test pipeline model"
      ]
    },
    {
      "cell_type": "markdown",
      "metadata": {
        "pycharm": {
          "name": "#%% md\n"
        },
        "id": "g3Jerx6E6OL0"
      },
      "source": [
        "Test the fitted pipeline (`predict`)."
      ]
    },
    {
      "cell_type": "code",
      "execution_count": 18,
      "metadata": {
        "pycharm": {
          "name": "#%%\n"
        },
        "colab": {
          "base_uri": "https://localhost:8080/"
        },
        "id": "mCYuQRgE6OL0",
        "outputId": "7330e1f8-4632-49e2-dd5a-e5349fb86472"
      },
      "outputs": [
        {
          "output_type": "execute_result",
          "data": {
            "text/plain": [
              "array(['No Failure', 'No Failure', 'No Failure', 'No Failure',\n",
              "       'No Failure', 'No Failure', 'No Failure', 'No Failure',\n",
              "       'No Failure', 'No Failure'], dtype='<U21')"
            ]
          },
          "metadata": {},
          "execution_count": 18
        }
      ],
      "source": [
        "pipeline_model.predict(X_test[:10])"
      ]
    },
    {
      "cell_type": "markdown",
      "metadata": {
        "id": "kNr-Zt9j6OL0"
      },
      "source": [
        "<a id=\"saving\"></a>\n",
        "## Store the model\n",
        "\n",
        "In this section you will learn how to store the incrementally trained model."
      ]
    },
    {
      "cell_type": "code",
      "execution_count": 19,
      "metadata": {
        "id": "xXiKsp5O6OL1"
      },
      "outputs": [],
      "source": [
        "model_metadata = {\n",
        "    client.repository.ModelMetaNames.NAME: 'P5 - Pretrained AutoAI pipeline'\n",
        "}\n",
        "\n",
        "stored_model_details = client.repository.store_model(model=pipeline_model, meta_props=model_metadata, experiment_metadata=experiment_metadata)"
      ]
    },
    {
      "cell_type": "markdown",
      "metadata": {
        "id": "-sCpX0es6OL1"
      },
      "source": [
        "Inspect the stored model details."
      ]
    },
    {
      "cell_type": "code",
      "execution_count": 20,
      "metadata": {
        "colab": {
          "base_uri": "https://localhost:8080/"
        },
        "id": "mLxxJEgc6OL1",
        "outputId": "1b6e2874-c2b6-4275-d5d2-15503222097d"
      },
      "outputs": [
        {
          "output_type": "execute_result",
          "data": {
            "text/plain": [
              "{'metadata': {'name': 'P5 - Pretrained AutoAI pipeline',\n",
              "  'project_id': 'f573001e-adae-4d0f-b48e-4274203ebed0',\n",
              "  'resource_key': 'e8ac10b6-d775-4aeb-88e7-4b969073e66a',\n",
              "  'id': 'dcf66fb6-cabc-46f7-9385-fbf2714ff216',\n",
              "  'created_at': '2025-08-04T16:40:33Z',\n",
              "  'rov': {'member_roles': {'IBMid-6980010EOI': {'user_iam_id': 'IBMid-6980010EOI',\n",
              "     'roles': ['OWNER']}}},\n",
              "  'owner': 'IBMid-6980010EOI'},\n",
              " 'entity': {'pipeline': {'id': 'a86b9671-86d6-4fe0-9ccd-57aa06ca95d6'},\n",
              "  'software_spec': {'id': '8c1a58c6-62b5-4dc4-987a-df751c2756b6'},\n",
              "  'type': 'wml-hybrid_0.1',\n",
              "  'training_data_references': [{'type': 'data_asset',\n",
              "    'connection': None,\n",
              "    'location': {'href': '/v2/assets/48dbb7e8-1800-4db5-96f5-41a9dec667a4?project_id=f573001e-adae-4d0f-b48e-4274203ebed0',\n",
              "     'id': '48dbb7e8-1800-4db5-96f5-41a9dec667a4'},\n",
              "    'schema': {'id': 'auto_ai_kb_input_schema',\n",
              "     'fields': [{'name': 'UDI', 'type': 'double', 'nullable': False},\n",
              "      {'name': 'Product ID', 'type': 'other', 'nullable': False},\n",
              "      {'name': 'Type', 'type': 'other', 'nullable': False},\n",
              "      {'name': 'Air temperature [K]', 'type': 'double', 'nullable': False},\n",
              "      {'name': 'Process temperature [K]', 'type': 'double', 'nullable': False},\n",
              "      {'name': 'Rotational speed [rpm]', 'type': 'double', 'nullable': False},\n",
              "      {'name': 'Torque [Nm]', 'type': 'double', 'nullable': False},\n",
              "      {'name': 'Tool wear [min]', 'type': 'double', 'nullable': False},\n",
              "      {'name': 'Target', 'type': 'double', 'nullable': False},\n",
              "      {'name': 'Failure Type', 'type': 'other', 'nullable': False}]}}],\n",
              "  'schemas': {'input': [{'id': '1',\n",
              "     'type': 'struct',\n",
              "     'fields': [{'name': 'UDI', 'type': 'double', 'nullable': False},\n",
              "      {'name': 'Product ID', 'type': 'other', 'nullable': False},\n",
              "      {'name': 'Type', 'type': 'other', 'nullable': False},\n",
              "      {'name': 'Air temperature [K]', 'type': 'double', 'nullable': False},\n",
              "      {'name': 'Process temperature [K]', 'type': 'double', 'nullable': False},\n",
              "      {'name': 'Rotational speed [rpm]', 'type': 'double', 'nullable': False},\n",
              "      {'name': 'Torque [Nm]', 'type': 'double', 'nullable': False},\n",
              "      {'name': 'Tool wear [min]', 'type': 'double', 'nullable': False},\n",
              "      {'name': 'Target', 'type': 'double', 'nullable': False}]}],\n",
              "   'output': []},\n",
              "  'label_column': 'Failure Type'}}"
            ]
          },
          "metadata": {},
          "execution_count": 20
        }
      ],
      "source": [
        "stored_model_details"
      ]
    },
    {
      "cell_type": "markdown",
      "metadata": {
        "id": "NcZyjAmy6OL1"
      },
      "source": [
        "<a id=\"deployment\"></a>\n",
        "## Create online deployment"
      ]
    },
    {
      "cell_type": "markdown",
      "metadata": {
        "id": "O7k06dqh6OL1"
      },
      "source": [
        "You can use the commands below to promote the model to space and create online deployment (web service).\n",
        "\n",
        "<a id=\"working_spaces\"></a>\n",
        "### Working with spaces\n",
        "\n",
        "In this section you will specify a deployment space for organizing the assets for deploying and scoring the model. If you do not have an existing space, you can use <a href=\"https://eu-gb.dataplatform.cloud.ibm.com/ml-runtime/dashboard?context=wx\">Deployment Spaces Dashboard</a> to create a new space, following these steps:\n",
        "\n",
        "- Click **New Deployment Space**.\n",
        "- Create an empty space.\n",
        "- Select Cloud Object Storage.\n",
        "- Select watsonx.ai Runtime and press **Create**.\n",
        "- Copy `space_id` and paste it below.\n",
        "\n",
        "**Tip**: You can also use the API to prepare the space for your work. Learn more [here](https://github.com/IBM/watson-machine-learning-samples/blob/master/cloud/notebooks/python_sdk/instance-management/Space%20management.ipynb).\n",
        "\n",
        "**Info**: Below cells are `raw` type - in order to run them, change their type to `code` and run them (no need to restart the notebook). You may need to add some additional info (see the **action** below).\n",
        "\n",
        "**Action**: Assign or update space ID below.\n"
      ]
    },
    {
      "cell_type": "raw",
      "metadata": {
        "id": "hvnaqx956OL2"
      },
      "source": [
        "space_id = \"PUT_YOUR_SPACE_ID_HERE\"\n",
        "\n",
        "model_id = client.spaces.promote(asset_id=stored_model_details[\"metadata\"][\"id\"], source_project_id=experiment_metadata[\"project_id\"], target_space_id=space_id)"
      ]
    },
    {
      "cell_type": "markdown",
      "metadata": {
        "id": "3vE56dno6OL2"
      },
      "source": [
        "#### Prepare online deployment"
      ]
    },
    {
      "cell_type": "raw",
      "metadata": {
        "id": "XeltEFZj6OL2"
      },
      "source": [
        "client.set.default_space(space_id)\n",
        "\n",
        "deploy_meta = {\n",
        "        client.deployments.ConfigurationMetaNames.NAME: \"Incrementally trained AutoAI pipeline\",\n",
        "        client.deployments.ConfigurationMetaNames.ONLINE: {},\n",
        "    }\n",
        "\n",
        "deployment_details = client.deployments.create(artifact_uid=model_id, meta_props=deploy_meta)\n",
        "deployment_id = client.deployments.get_id(deployment_details)"
      ]
    },
    {
      "cell_type": "markdown",
      "metadata": {
        "id": "6YGL-WuS6OL2"
      },
      "source": [
        "#### Test online deployment"
      ]
    },
    {
      "cell_type": "raw",
      "metadata": {
        "id": "rTbanyRl6OL2"
      },
      "source": [
        "scoring_payload = {\n",
        "    \"input_data\": [{\n",
        "        'values': X_test[:5]\n",
        "    }]\n",
        "}\n",
        "\n",
        "client.deployments.score(deployment_id, scoring_payload)"
      ]
    },
    {
      "cell_type": "markdown",
      "metadata": {
        "id": "EdRFj5wp6OL2"
      },
      "source": [
        "<a id=\"cleanup\"></a>\n",
        "### Deleting deployment\n",
        "You can delete the existing deployment by calling the `client.deployments.delete(deployment_id)` command.\n",
        "To list the existing web services, use `client.deployments.list()`."
      ]
    },
    {
      "cell_type": "markdown",
      "metadata": {
        "id": "2IXTbDtx6OL2"
      },
      "source": [
        "<a id=\"summary_and_next_steps\"></a>\n",
        "# Summary and next steps\n",
        "You've successfully completed this notebook!\n",
        "You've learned how to use AutoAI pipeline definition to train the model.\n",
        "Check out the official [AutoAI site](https://www.ibm.com/cloud/watson-studio/autoai) for more samples, tutorials, documentation, how-tos, and blog posts."
      ]
    },
    {
      "cell_type": "markdown",
      "metadata": {
        "id": "pUMYTrry6OL2"
      },
      "source": [
        "<a id=\"copyrights\"></a>\n",
        "### Copyrights\n",
        "\n",
        "Licensed Materials - Copyright © 2025 IBM. This notebook and its source code are released under the terms of the ILAN License. Use, duplication disclosure restricted by GSA ADP Schedule Contract with IBM Corp.\n",
        "\n",
        "**Note:** The auto-generated notebooks are subject to the International License Agreement for Non-Warranted Programs (or equivalent) and License Information document for Watson Studio Auto-generated Notebook (License Terms), such agreements located in the link below. Specifically, the Source Components and Sample Materials clause included in the License Information document for Watson Studio Auto-generated Notebook applies to the auto-generated notebooks.  \n",
        "\n",
        "By downloading, copying, accessing, or otherwise using the materials, you agree to the <a href=\"https://www14.software.ibm.com/cgi-bin/weblap/lap.pl?li_formnum=L-AMCU-BYC7LF\">License Terms</a>\n",
        "\n",
        "___"
      ]
    },
    {
      "cell_type": "markdown",
      "metadata": {
        "id": "cd89d645"
      },
      "source": [
        "# Task\n",
        "Create a Streamlit application from the provided notebook that loads the trained model, takes 2 or 3 features as input, predicts using the model, and displays the prediction along with a visualization if possible."
      ]
    },
    {
      "cell_type": "markdown",
      "metadata": {
        "id": "69a8c673"
      },
      "source": [
        "## Install necessary libraries\n",
        "\n",
        "### Subtask:\n",
        "Install `streamlit` and other required libraries.\n"
      ]
    },
    {
      "cell_type": "markdown",
      "metadata": {
        "id": "86c09c4c"
      },
      "source": [
        "**Reasoning**:\n",
        "Install the required libraries for the Streamlit application.\n",
        "\n"
      ]
    },
    {
      "cell_type": "code",
      "metadata": {
        "colab": {
          "base_uri": "https://localhost:8080/"
        },
        "id": "1acee52d",
        "outputId": "69fdc361-5f35-479f-cdfc-0307e81d0746"
      },
      "source": [
        "!pip install streamlit | tail -n 1\n",
        "!pip install ibm-watsonx-ai autoai-libs scikit-learn==1.3.* lale~=0.8.3 snapml==1.14.* matplotlib pandas | tail -n 1"
      ],
      "execution_count": 21,
      "outputs": [
        {
          "output_type": "stream",
          "name": "stdout",
          "text": [
            "Successfully installed pydeck-0.9.1 streamlit-1.47.1 watchdog-6.0.0\n",
            "Requirement already satisfied: sortedcontainers~=2.2 in /usr/local/lib/python3.11/dist-packages (from portion->jsonsubschema>=0.0.6->lale~=0.8.3) (2.4.0)\n"
          ]
        }
      ]
    },
    {
      "cell_type": "markdown",
      "metadata": {
        "id": "81dcc86f"
      },
      "source": [
        "## Load the trained model\n",
        "\n",
        "### Subtask:\n",
        "Load the model that was saved in the notebook.\n"
      ]
    },
    {
      "cell_type": "markdown",
      "metadata": {
        "id": "baac0d56"
      },
      "source": [
        "**Reasoning**:\n",
        "Load the model from the watsonx.ai repository using the stored model details.\n",
        "\n"
      ]
    },
    {
      "cell_type": "code",
      "metadata": {
        "colab": {
          "base_uri": "https://localhost:8080/",
          "height": 450
        },
        "id": "66ceb969",
        "outputId": "f9470c47-94ec-4ad9-d596-e9a192ee54fe"
      },
      "source": [
        "from ibm_watsonx_ai import APIClient\n",
        "from ibm_watsonx_ai import Credentials\n",
        "\n",
        "credentials = Credentials(\n",
        "    api_key=api_key,\n",
        "    url=experiment_metadata['deployment_url']\n",
        ")\n",
        "client = APIClient(credentials)\n",
        "\n",
        "if 'space_id' in experiment_metadata:\n",
        "    client.set.default_space(experiment_metadata['space_id'])\n",
        "else:\n",
        "    client.set.default_project(experiment_metadata['project_id'])\n",
        "\n",
        "model_id = stored_model_details['metadata']['id']\n",
        "model_details = client.repository.get_details(model_id)\n",
        "loaded_model = client.repository.load(model_id)"
      ],
      "execution_count": 22,
      "outputs": [
        {
          "output_type": "stream",
          "name": "stderr",
          "text": [
            "WARNING:ibm_watsonx_ai.wml_client_error:The use of the load() method is restricted and not permitted for AutoAI models.\n"
          ]
        },
        {
          "output_type": "error",
          "ename": "WMLClientError",
          "evalue": "The use of the load() method is restricted and not permitted for AutoAI models.",
          "traceback": [
            "\u001b[0;31m---------------------------------------------------------------------------\u001b[0m",
            "\u001b[0;31mWMLClientError\u001b[0m                            Traceback (most recent call last)",
            "\u001b[0;32m/tmp/ipython-input-487410524.py\u001b[0m in \u001b[0;36m<cell line: 0>\u001b[0;34m()\u001b[0m\n\u001b[1;32m     15\u001b[0m \u001b[0mmodel_id\u001b[0m \u001b[0;34m=\u001b[0m \u001b[0mstored_model_details\u001b[0m\u001b[0;34m[\u001b[0m\u001b[0;34m'metadata'\u001b[0m\u001b[0;34m]\u001b[0m\u001b[0;34m[\u001b[0m\u001b[0;34m'id'\u001b[0m\u001b[0;34m]\u001b[0m\u001b[0;34m\u001b[0m\u001b[0;34m\u001b[0m\u001b[0m\n\u001b[1;32m     16\u001b[0m \u001b[0mmodel_details\u001b[0m \u001b[0;34m=\u001b[0m \u001b[0mclient\u001b[0m\u001b[0;34m.\u001b[0m\u001b[0mrepository\u001b[0m\u001b[0;34m.\u001b[0m\u001b[0mget_details\u001b[0m\u001b[0;34m(\u001b[0m\u001b[0mmodel_id\u001b[0m\u001b[0;34m)\u001b[0m\u001b[0;34m\u001b[0m\u001b[0;34m\u001b[0m\u001b[0m\n\u001b[0;32m---> 17\u001b[0;31m \u001b[0mloaded_model\u001b[0m \u001b[0;34m=\u001b[0m \u001b[0mclient\u001b[0m\u001b[0;34m.\u001b[0m\u001b[0mrepository\u001b[0m\u001b[0;34m.\u001b[0m\u001b[0mload\u001b[0m\u001b[0;34m(\u001b[0m\u001b[0mmodel_id\u001b[0m\u001b[0;34m)\u001b[0m\u001b[0;34m\u001b[0m\u001b[0;34m\u001b[0m\u001b[0m\n\u001b[0m",
            "\u001b[0;32m/usr/local/lib/python3.11/dist-packages/ibm_watsonx_ai/repository.py\u001b[0m in \u001b[0;36mload\u001b[0;34m(self, artifact_id, **kwargs)\u001b[0m\n\u001b[1;32m    294\u001b[0m         \"\"\"\n\u001b[1;32m    295\u001b[0m         \u001b[0martifact_id\u001b[0m \u001b[0;34m=\u001b[0m \u001b[0m_get_id_from_deprecated_uid\u001b[0m\u001b[0;34m(\u001b[0m\u001b[0mkwargs\u001b[0m\u001b[0;34m,\u001b[0m \u001b[0martifact_id\u001b[0m\u001b[0;34m,\u001b[0m \u001b[0;34m\"artifact\"\u001b[0m\u001b[0;34m)\u001b[0m\u001b[0;34m\u001b[0m\u001b[0;34m\u001b[0m\u001b[0m\n\u001b[0;32m--> 296\u001b[0;31m         \u001b[0;32mreturn\u001b[0m \u001b[0mself\u001b[0m\u001b[0;34m.\u001b[0m\u001b[0m_client\u001b[0m\u001b[0;34m.\u001b[0m\u001b[0m_models\u001b[0m\u001b[0;34m.\u001b[0m\u001b[0mload\u001b[0m\u001b[0;34m(\u001b[0m\u001b[0martifact_id\u001b[0m\u001b[0;34m)\u001b[0m\u001b[0;34m\u001b[0m\u001b[0;34m\u001b[0m\u001b[0m\n\u001b[0m\u001b[1;32m    297\u001b[0m \u001b[0;34m\u001b[0m\u001b[0m\n\u001b[1;32m    298\u001b[0m     def download(\n",
            "\u001b[0;32m/usr/local/lib/python3.11/dist-packages/ibm_watsonx_ai/models.py\u001b[0m in \u001b[0;36mload\u001b[0;34m(self, artifact_id, **kwargs)\u001b[0m\n\u001b[1;32m   2150\u001b[0m         \u001b[0mmodel_details\u001b[0m \u001b[0;34m=\u001b[0m \u001b[0mself\u001b[0m\u001b[0;34m.\u001b[0m\u001b[0mget_details\u001b[0m\u001b[0;34m(\u001b[0m\u001b[0martifact_id\u001b[0m\u001b[0;34m)\u001b[0m\u001b[0;34m\u001b[0m\u001b[0;34m\u001b[0m\u001b[0m\n\u001b[1;32m   2151\u001b[0m         \u001b[0;32mif\u001b[0m \u001b[0;34m\"wml-hybrid\"\u001b[0m \u001b[0;32min\u001b[0m \u001b[0mmodel_details\u001b[0m\u001b[0;34m.\u001b[0m\u001b[0mget\u001b[0m\u001b[0;34m(\u001b[0m\u001b[0;34m\"entity\"\u001b[0m\u001b[0;34m,\u001b[0m \u001b[0;34m{\u001b[0m\u001b[0;34m}\u001b[0m\u001b[0;34m)\u001b[0m\u001b[0;34m.\u001b[0m\u001b[0mget\u001b[0m\u001b[0;34m(\u001b[0m\u001b[0;34m\"type\"\u001b[0m\u001b[0;34m,\u001b[0m \u001b[0;34m\"\"\u001b[0m\u001b[0;34m)\u001b[0m\u001b[0;34m:\u001b[0m\u001b[0;34m\u001b[0m\u001b[0;34m\u001b[0m\u001b[0m\n\u001b[0;32m-> 2152\u001b[0;31m             raise WMLClientError(\n\u001b[0m\u001b[1;32m   2153\u001b[0m                 \u001b[0;34m\"The use of the load() method is restricted and not permitted for AutoAI models.\"\u001b[0m\u001b[0;34m\u001b[0m\u001b[0;34m\u001b[0m\u001b[0m\n\u001b[1;32m   2154\u001b[0m             )\n",
            "\u001b[0;31mWMLClientError\u001b[0m: The use of the load() method is restricted and not permitted for AutoAI models."
          ]
        }
      ]
    },
    {
      "cell_type": "markdown",
      "metadata": {
        "id": "82e04721"
      },
      "source": [
        "## Load the trained model retry 1\n",
        "\n",
        "### Subtask:\n",
        "Load the trained model: Retry 1.\n"
      ]
    },
    {
      "cell_type": "markdown",
      "metadata": {
        "id": "b3180d0a"
      },
      "source": [
        "**Reasoning**:\n",
        "Retrieve the model asset ID from the stored model details as the direct loading of the model object is not supported for AutoAI models.\n",
        "\n"
      ]
    },
    {
      "cell_type": "code",
      "metadata": {
        "colab": {
          "base_uri": "https://localhost:8080/"
        },
        "id": "9b33ae0e",
        "outputId": "19ade641-4d17-4c4a-fe05-c8c7ffc77eaa"
      },
      "source": [
        "model_id = stored_model_details['metadata']['id']\n",
        "print(f\"Model Asset ID: {model_id}\")"
      ],
      "execution_count": 28,
      "outputs": [
        {
          "output_type": "stream",
          "name": "stdout",
          "text": [
            "Model Asset ID: dcf66fb6-cabc-46f7-9385-fbf2714ff216\n"
          ]
        }
      ]
    },
    {
      "cell_type": "markdown",
      "metadata": {
        "id": "686bea1c"
      },
      "source": [
        "## Create the streamlit application\n",
        "\n",
        "### Subtask:\n",
        "Create the streamlit application.\n"
      ]
    },
    {
      "cell_type": "markdown",
      "metadata": {
        "id": "549a0b15"
      },
      "source": [
        "**Reasoning**:\n",
        "Create the Streamlit application file and add the basic structure, including title, header, and input fields for a few features.\n",
        "\n"
      ]
    },
    {
      "cell_type": "code",
      "metadata": {
        "colab": {
          "base_uri": "https://localhost:8080/"
        },
        "id": "3be3f2f3",
        "outputId": "ad63fb50-8de2-4be3-ae72-3ca76327cf64"
      },
      "source": [
        "%%writefile app.py\n",
        "import streamlit as st\n",
        "import pandas as pd\n",
        "import numpy as np\n",
        "\n",
        "st.title(\"Manufacturing Failure Prediction\")\n",
        "st.header(\"Predicting potential failures based on sensor readings\")\n",
        "\n",
        "st.write(\"Enter the values for the following features to get a failure prediction:\")\n",
        "\n",
        "# Define input fields for selected features (based on batch_df columns)\n",
        "# Choosing a few representative numerical features\n",
        "air_temp = st.number_input(\"Air temperature [K]\", value=298.0)\n",
        "process_temp = st.number_input(\"Process temperature [K]\", value=308.0)\n",
        "rotational_speed = st.number_input(\"Rotational speed [rpm]\", value=1500.0)\n",
        "torque = st.number_input(\"Torque [Nm]\", value=40.0)\n",
        "tool_wear = st.number_input(\"Tool wear [min]\", value=10.0)\n",
        "\n",
        "if st.button(\"Predict\"):\n",
        "    # Prepare input data for the model (will be a DataFrame)\n",
        "    input_data = pd.DataFrame({\n",
        "        'Air temperature [K]': [air_temp],\n",
        "        'Process temperature [K]': [process_temp],\n",
        "        'Rotational speed [rpm]': [rotational_speed],\n",
        "        'Torque [Nm]': [torque],\n",
        "        'Tool wear [min]': [tool_wear]\n",
        "        # Note: UDI, Product ID, and Type are not included as they are likely handled by the model's preprocessor\n",
        "    })\n",
        "\n",
        "    # Placeholder for model prediction - will be replaced in the next step\n",
        "    st.write(\"Prediction functionality will be added in the next step.\")\n"
      ],
      "execution_count": 29,
      "outputs": [
        {
          "output_type": "stream",
          "name": "stdout",
          "text": [
            "Overwriting app.py\n"
          ]
        }
      ]
    },
    {
      "cell_type": "markdown",
      "metadata": {
        "id": "5dfe7984"
      },
      "source": [
        "**Reasoning**:\n",
        "Add the code to create an online deployment and use the deployment endpoint for prediction within the Streamlit application.\n",
        "\n"
      ]
    },
    {
      "cell_type": "code",
      "metadata": {
        "colab": {
          "base_uri": "https://localhost:8080/"
        },
        "id": "abf28f1e",
        "outputId": "a727534a-f2ac-46fa-801a-4ca6e11c37eb"
      },
      "source": [
        "%%writefile -a app.py\n",
        "\n",
        "from ibm_watsonx_ai import APIClient\n",
        "from ibm_watsonx_ai import Credentials\n",
        "import os\n",
        "# No need for userdata here as we are passing the API key as an environment variable\n",
        "\n",
        "# Replace with your actual deployment URL and project ID\n",
        "# It's recommended to use environment variables or secrets for credentials in a real application\n",
        "\n",
        "# Get API key from environment variable\n",
        "api_key = os.getenv(\"api_key\") # Read API key from environment variable\n",
        "\n",
        "deployment_url = \"https://eu-gb.ml.cloud.ibm.com\" # Replace with your actual deployment_url\n",
        "project_id = \"f573001e-adae-4d0f-b48e-4274203ebed0\" # Replace with your actual project_id\n",
        "model_id = \"dcf66fb6-cabc-46f7-9385-fbf2714ff216\" # Replace with your actual model_id\n",
        "\n",
        "# Check if api_key is retrieved\n",
        "if not api_key:\n",
        "    st.error(\"IBM Cloud API key environment variable not set. Please ensure it's passed when running the app.\")\n",
        "    st.stop() # Stop the application if API key is missing\n",
        "\n",
        "\n",
        "credentials = Credentials(\n",
        "    api_key=api_key,\n",
        "    url=deployment_url\n",
        ")\n",
        "client = APIClient(credentials)\n",
        "\n",
        "# Set the default project or space\n",
        "client.set.default_project(project_id)\n",
        "\n",
        "# Create a deployment for the model (if one doesn't exist)\n",
        "# This part would ideally be done outside the Streamlit app, but included here for completeness\n",
        "# In a real app, you would deploy the model once and use the deployment_id\n",
        "# Note: This part might also fail if the API key issue is not resolved,\n",
        "# as it requires authentication to list/create deployments.\n",
        "try:\n",
        "    deployments = client.deployments.list(return_as_list=True)\n",
        "    deployment_id = None\n",
        "    for deployment in deployments:\n",
        "        if 'asset' in deployment['entity'] and 'id' in deployment['entity']['asset'] and deployment['entity']['asset']['id'] == model_id:\n",
        "            deployment_id = deployment['metadata']['id']\n",
        "            st.write(f\"Found existing deployment with ID: {deployment_id}\")\n",
        "            break\n",
        "\n",
        "    if deployment_id is None:\n",
        "        st.write(\"Creating new deployment...\")\n",
        "        deployment_details = client.deployments.create(\n",
        "            artifact_id=model_id,\n",
        "            name=\"Failure Prediction Deployment\",\n",
        "            online=True\n",
        "        )\n",
        "        deployment_id = client.deployments.get_id(deployment_details)\n",
        "        st.write(f\"Created new deployment with ID: {deployment_id}\")\n",
        "\n",
        "except Exception as e:\n",
        "    st.error(f\"Error listing or creating deployment: {e}\")\n",
        "    st.stop() # Stop the application if deployment cannot be accessed/created\n",
        "\n",
        "\n",
        "if st.button(\"Predict\"):\n",
        "    # Prepare input data for the model (will be a DataFrame)\n",
        "    input_data = pd.DataFrame({\n",
        "        'Air temperature [K]': [air_temp],\n",
        "        'Process temperature [K]': [process_temp],\n",
        "        'Rotational speed [rpm]': [rotational_speed],\n",
        "        'Torque [Nm]': [torque],\n",
        "        'Tool wear [min]': [tool_wear]\n",
        "    })\n",
        "\n",
        "    # Use the deployment to make a prediction\n",
        "    try:\n",
        "        prediction_response = client.deployments.score(\n",
        "            deployment_id=deployment_id,\n",
        "            payload={'input_data': [{'fields': input_data.columns.tolist(), 'values': input_data.values.tolist()}]}\n",
        "        )\n",
        "        prediction = prediction_response['predictions'][0]['values'][0][0]\n",
        "        st.success(f\"Predicted Failure Type: {prediction}\")\n",
        "\n",
        "        # Add visualization\n",
        "        # Assuming prediction_response contains probabilities, check its structure.\n",
        "        # The typical structure for multiclass probability output from WML deployment is:\n",
        "        # prediction_response = {'predictions': [{'fields': ['prediction', 'probability'], 'values': [['No Failure', [0.1, 0.8, 0.05, 0.02, 0.01, 0.02]]]}], ...}\n",
        "        # Let's assume the probabilities are in the second element of the 'values' list,\n",
        "        # and the classes are available from the experiment_metadata.\n",
        "\n",
        "        # Note: The actual classes need to be passed to the Streamlit app.\n",
        "        # For this example, hardcoding the classes based on the experiment_metadata\n",
        "        classes = ['Heat Dissipation Failure', 'No Failure', 'Overstrain Failure', 'Power Failure', 'Random Failures', 'Tool Wear Failure']\n",
        "\n",
        "        if 'probability' in prediction_response['predictions'][0]['fields']:\n",
        "            prob_index = prediction_response['predictions'][0]['fields'].index('probability')\n",
        "            probabilities = prediction_response['predictions'][0]['values'][0][prob_index]\n",
        "\n",
        "            if len(probabilities) == len(classes):\n",
        "                fig, ax = plt.subplots(figsize=(8, 4))\n",
        "                ax.bar(classes, probabilities)\n",
        "                ax.set_ylabel(\"Probability\")\n",
        "                ax.set_title(\"Probability of Failure Types\")\n",
        "                plt.xticks(rotation=45, ha='right')\n",
        "                st.pyplot(fig)\n",
        "            else:\n",
        "                st.warning(\"Could not visualize probabilities: Mismatch between number of probabilities and classes.\")\n",
        "        else:\n",
        "            st.info(\"Probability scores not available in the prediction response for visualization.\")\n",
        "\n",
        "    except Exception as e:\n",
        "        st.error(f\"Error during prediction: {e}\")"
      ],
      "execution_count": 49,
      "outputs": [
        {
          "output_type": "stream",
          "name": "stdout",
          "text": [
            "Appending to app.py\n"
          ]
        }
      ]
    },
    {
      "cell_type": "markdown",
      "metadata": {
        "id": "a34cf68c"
      },
      "source": [
        "## Add visualization\n",
        "\n",
        "### Subtask:\n",
        "Add visualization.\n"
      ]
    },
    {
      "cell_type": "markdown",
      "metadata": {
        "id": "a024d711"
      },
      "source": [
        "**Reasoning**:\n",
        "Add code to the Streamlit application file `app.py` to include visualization of the prediction result, specifically a bar chart showing the probability of each failure type if available, or a simple indicator for the predicted class.\n",
        "\n"
      ]
    },
    {
      "cell_type": "code",
      "metadata": {
        "colab": {
          "base_uri": "https://localhost:8080/"
        },
        "id": "9ffb38d5",
        "outputId": "568bb644-fe7e-4da0-f242-9d6035179431"
      },
      "source": [
        "%%writefile -a app.py\n",
        "\n",
        "import matplotlib.pyplot as plt\n",
        "import streamlit as st\n",
        "\n",
        "# Assuming prediction_response contains probabilities, check its structure.\n",
        "# The typical structure for multiclass probability output from WML deployment is:\n",
        "# prediction_response = {'predictions': [{'fields': ['prediction', 'probability'], 'values': [['No Failure', [0.1, 0.8, 0.05, 0.02, 0.01, 0.02]]]}], ...}\n",
        "# Let's assume the probabilities are in the second element of the 'values' list,\n",
        "# and the classes are available from the experiment_metadata.\n",
        "\n",
        "# Note: The actual classes need to be passed to the Streamlit app.\n",
        "# For this example, hardcoding the classes based on the experiment_metadata\n",
        "classes = ['Heat Dissipation Failure', 'No Failure', 'Overstrain Failure', 'Power Failure', 'Random Failures', 'Tool Wear Failure']\n",
        "\n",
        "if st.button(\"Predict\"):\n",
        "    # Prepare input data for the model (will be a DataFrame)\n",
        "    input_data = pd.DataFrame({\n",
        "        'Air temperature [K]': [air_temp],\n",
        "        'Process temperature [K]': [process_temp],\n",
        "        'Rotational speed [rpm]': [rotational_speed],\n",
        "        'Torque [Nm]': [torque],\n",
        "        'Tool wear [min]': [tool_wear]\n",
        "    })\n",
        "\n",
        "    # Use the deployment to make a prediction\n",
        "    try:\n",
        "        prediction_response = client.deployments.score(\n",
        "            deployment_id=deployment_id,\n",
        "            payload={'input_data': [{'fields': input_data.columns.tolist(), 'values': input_data.values.tolist()}]}\n",
        "        )\n",
        "        prediction = prediction_response['predictions'][0]['values'][0][0]\n",
        "        st.success(f\"Predicted Failure Type: {prediction}\")\n",
        "\n",
        "        # Add visualization\n",
        "        if 'probability' in prediction_response['predictions'][0]['fields']:\n",
        "            prob_index = prediction_response['predictions'][0]['fields'].index('probability')\n",
        "            probabilities = prediction_response['predictions'][0]['values'][0][prob_index]\n",
        "\n",
        "            if len(probabilities) == len(classes):\n",
        "                fig, ax = plt.subplots(figsize=(8, 4))\n",
        "                ax.bar(classes, probabilities)\n",
        "                ax.set_ylabel(\"Probability\")\n",
        "                ax.set_title(\"Probability of Failure Types\")\n",
        "                plt.xticks(rotation=45, ha='right')\n",
        "                st.pyplot(fig)\n",
        "            else:\n",
        "                st.warning(\"Could not visualize probabilities: Mismatch between number of probabilities and classes.\")\n",
        "        else:\n",
        "            st.info(\"Probability scores not available in the prediction response for visualization.\")\n",
        "\n",
        "    except Exception as e:\n",
        "        st.error(f\"Error during prediction: {e}\")\n"
      ],
      "execution_count": 31,
      "outputs": [
        {
          "output_type": "stream",
          "name": "stdout",
          "text": [
            "Appending to app.py\n"
          ]
        }
      ]
    },
    {
      "cell_type": "markdown",
      "metadata": {
        "id": "de284132"
      },
      "source": [
        "## Provide instructions to run the app\n",
        "\n",
        "### Subtask:\n",
        "Provide instructions on how to save the Streamlit code and run the application.\n"
      ]
    },
    {
      "cell_type": "markdown",
      "metadata": {
        "id": "15c521ed"
      },
      "source": [
        "**Reasoning**:\n",
        "Provide instructions to the user on how to save and run the Streamlit application, including replacing placeholder values.\n",
        "\n"
      ]
    },
    {
      "cell_type": "code",
      "metadata": {
        "colab": {
          "base_uri": "https://localhost:8080/"
        },
        "id": "b2d4fb45",
        "outputId": "fb31c152-7bc1-422d-ce61-6fb854076e64"
      },
      "source": [
        "print(\"The Streamlit application code is now saved in `app.py`.\")\n",
        "print(\"Please replace the placeholder values for `api_key`, `deployment_url`, `project_id`, and `model_id` in the `app.py` file with your actual credentials and IDs from the notebook.\")\n",
        "print(\"\\nTo run the application, open your terminal or command prompt, navigate to the directory where `app.py` is saved, and run the following command:\")\n",
        "print(\"\\n`streamlit run app.py`\")\n",
        "print(\"\\nThis will open the application in your web browser.\")"
      ],
      "execution_count": 32,
      "outputs": [
        {
          "output_type": "stream",
          "name": "stdout",
          "text": [
            "The Streamlit application code is now saved in `app.py`.\n",
            "Please replace the placeholder values for `api_key`, `deployment_url`, `project_id`, and `model_id` in the `app.py` file with your actual credentials and IDs from the notebook.\n",
            "\n",
            "To run the application, open your terminal or command prompt, navigate to the directory where `app.py` is saved, and run the following command:\n",
            "\n",
            "`streamlit run app.py`\n",
            "\n",
            "This will open the application in your web browser.\n"
          ]
        }
      ]
    },
    {
      "cell_type": "markdown",
      "metadata": {
        "id": "e5773d95"
      },
      "source": [
        "## Summary:\n",
        "\n",
        "### Data Analysis Key Findings\n",
        "\n",
        "*   The necessary libraries for the Streamlit application, including `streamlit`, `ibm-watsonx-ai`, and others, were successfully installed.\n",
        "*   Directly loading an AutoAI model object using `client.repository.load()` is not supported; the correct approach for making predictions is through deploying the model.\n",
        "*   The model asset ID was successfully retrieved, which is required for deploying the model.\n",
        "*   A Streamlit application file (`app.py`) was created to accept user input for manufacturing features (Air temperature, Process temperature, Rotational speed, Torque, and Tool wear).\n",
        "*   The application includes logic to connect to IBM watsonx.ai, find or create a model deployment, send user input for scoring, and display the predicted failure type.\n",
        "*   Visualization logic was added to the `app.py` file to display a bar chart of the probability of different failure types, provided the prediction response includes probability scores.\n",
        "*   Instructions were provided on how to save the `app.py` file, replace placeholder credentials, and run the Streamlit application using `streamlit run app.py`.\n",
        "\n",
        "### Insights or Next Steps\n",
        "\n",
        "*   Ensure the `api_key`, `deployment_url`, `project_id`, and `model_id` placeholders in `app.py` are replaced with actual values before running the application.\n",
        "*   Consider using environment variables or Streamlit's secrets management for handling credentials in a production environment instead of hardcoding them in `app.py`.\n"
      ]
    },
    {
      "cell_type": "code",
      "metadata": {
        "colab": {
          "base_uri": "https://localhost:8080/"
        },
        "id": "751f8843",
        "outputId": "53088242-eebe-4aee-98fe-14e1981b6a57"
      },
      "source": [
        "# Install ngrok and pyngrok\n",
        "!pip install ngrok pyngrok | tail -n 1"
      ],
      "execution_count": 46,
      "outputs": [
        {
          "output_type": "stream",
          "name": "stdout",
          "text": [
            "Requirement already satisfied: PyYAML>=5.1 in /usr/local/lib/python3.11/dist-packages (from pyngrok) (6.0.2)\n"
          ]
        }
      ]
    },
    {
      "cell_type": "code",
      "metadata": {
        "colab": {
          "base_uri": "https://localhost:8080/"
        },
        "id": "3d756bfb",
        "outputId": "cf5cc9d0-de37-41a0-d052-bfea4467804d"
      },
      "source": [
        "from pyngrok import ngrok\n",
        "import os\n",
        "import threading\n",
        "from google.colab import userdata\n",
        "\n",
        "# Get ngrok authtoken from Colab secrets\n",
        "ngrok_auth = userdata.get('NGROK_AUTHTOKEN')\n",
        "\n",
        "if ngrok_auth:\n",
        "    ngrok.set_auth_token(ngrok_auth)\n",
        "else:\n",
        "    print(\"Please add your ngrok authtoken to Colab secrets with the name 'NGROK_AUTHTOKEN'.\")\n",
        "    # You might want to stop execution here if the authtoken is missing\n",
        "    # exit()\n",
        "\n",
        "# Get IBM Cloud API key from Colab secrets using the correct secret name\n",
        "ibmcloud_api_key = userdata.get('api_key') # Using the secret name provided by the user\n",
        "\n",
        "if not ibmcloud_api_key:\n",
        "    print(\"Please add your IBM Cloud API key to Colab secrets with the name 'api_key'.\")\n",
        "    # You might want to stop execution here if the API key is missing\n",
        "    # exit()\n",
        "\n",
        "\n",
        "# Terminate any existing ngrok tunnels\n",
        "ngrok.kill()\n",
        "\n",
        "# Start a Streamlit app in the background\n",
        "# Pass the IBM Cloud API key as an environment variable\n",
        "# Use the --headless flag to prevent Streamlit from trying to open a browser window\n",
        "# Use the --server.port flag to specify a port (e.g., 8501, Streamlit's default)\n",
        "# Use the --server.enableXsrfProtection=false flag to disable XSRF protection for easier testing\n",
        "# In a production environment, you should handle XSRF protection properly\n",
        "streamlit_command = f\"api_key='{ibmcloud_api_key}' streamlit run app.py --server.port 8501 --server.enableXsrfProtection=false --headless\"\n",
        "os.system(f\"nohup {streamlit_command} &\")\n",
        "\n",
        "# Give Streamlit a moment to start\n",
        "import time\n",
        "time.sleep(5)\n",
        "\n",
        "# Start ngrok tunnel to the Streamlit port\n",
        "public_url = ngrok.connect(addr=\"8501\", proto=\"http\")\n",
        "\n",
        "print(f\"Streamlit application is running at: {public_url}\")\n",
        "print(\"Click the link above to access the application.\")"
      ],
      "execution_count": 50,
      "outputs": [
        {
          "output_type": "stream",
          "name": "stdout",
          "text": [
            "Streamlit application is running at: NgrokTunnel: \"https://eec84880936a.ngrok-free.app\" -> \"http://localhost:8501\"\n",
            "Click the link above to access the application.\n"
          ]
        }
      ]
    },
    {
      "cell_type": "code",
      "source": [],
      "metadata": {
        "id": "S_TQjZTpDAvo"
      },
      "execution_count": null,
      "outputs": []
    }
  ],
  "metadata": {
    "kernelspec": {
      "display_name": "Python 3 (ipykernel)",
      "language": "python",
      "name": "python3"
    },
    "language_info": {
      "codemirror_mode": {
        "name": "ipython",
        "version": 3
      },
      "file_extension": ".py",
      "mimetype": "text/x-python",
      "name": "python",
      "nbconvert_exporter": "python",
      "pygments_lexer": "ipython3",
      "version": "3.11.5"
    },
    "colab": {
      "provenance": []
    }
  },
  "nbformat": 4,
  "nbformat_minor": 0
}